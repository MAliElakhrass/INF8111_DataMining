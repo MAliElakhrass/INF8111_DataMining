{
 "cells": [
  {
   "cell_type": "markdown",
   "metadata": {},
   "source": [
    "# TP3 - Market Basket Analysis \n",
    "INF8111 - Fouille de données, Fall 2019\n",
    "### Team Components\n",
    "    - El-Asmar Jad (1853357) 1\n",
    "    - Elakhrass Mohamed Ali (1847744) 2\n",
    "    - Hasrouni Elio (1847193) 3\n",
    "\n",
    "**Authors**: Rodrigo Randel"
   ]
  },
  {
   "cell_type": "markdown",
   "metadata": {},
   "source": [
    "## Date et directives de remise\n",
    "Vous remettrez ce fichier nommé TP2\\_NomDuMembre1\\_NomDuMembre2\\_NomDuMembre3.ipynb dans la boîte de remise sur moodle. \n",
    "\n",
    "Tout devra être remis avant le **3 decembre à 23h55**.\n",
    "\n",
    "## Market Basket Analysis\n",
    "\n",
    "Market Basket Analysis (MBA) is a data mining analytics technique to uncover associations between products or product grouping. By exploring interesting patterns from an extensive collection of data, MBA aims to understand/reveal customer purchase behaviors based upon the theory that if you purchased a certain set of products, then you are more (or less) likely to buy another group of products. In other words, MBA allows retailers to identify the relationship between the items that customers buy, revealing patterns of items often purchased together.\n",
    "\n",
    "A widely approach to explore these patterns is by constructing ***association rules*** such as:\n",
    "- **if** bought *ITEM_1* **then** will buy *ITEM_2* with **confidence** *X*.\n",
    "\n",
    "These associations do not have to be 1-to-1 rules. They can involve many items. For example, a person in a supermarket may add eggs to his/her cart, then an MBA application may suggest that the person will also buy some bread and/or flour: \n",
    "    \n",
    "+ **if** bought *EGGS* **then** will buy [*BREAD* with confidence *0.2*; *FLOUR* with confidence 0.05].\n",
    "\n",
    "However, if the person now decides to add flour to his/her cart, the new association rule could be as showing below, suggesting ingredients to make a cake.\n",
    "\n",
    "+ **if** bought [*EGGS, FLOUR*] **then** will buy [*SUGGAR* with confidence 0.45; BAKING POWDER with confidence 0.12; *BREAD* with confidence *0.03*].\n",
    "\n",
    "\n",
    "There are many real scenarios where MBA plays a central role in data analysis, such as supermarket transactions, online orders or credit card history. Marketers may use these association rules to allocate correlated products close to each other on store shelves or make online suggestions so that customers buy more items. Some questions that an MBA can usually help retailers to answer are:\n",
    "\n",
    "    - What items are often purchased together?\n",
    "    - Given a basket, what items should be suggested?\n",
    "    - How should items be placed together on the shelves?\n",
    "\n",
    "\n",
    "### Objective\n",
    "\n",
    "Your goal in this TP is to develop an MBA algorithm for revealing patterns by creating association rules in a big dataset with more than three millions supermarket transactions. However, mining association rules for large datasets is a very computationally intensive problem, which makes it almost impractical to perform it without a distributed system. Hence, to run your algorithm, you will have access to a distributed cloud computing cluster with hundreds of cores. \n",
    "\n",
    "To this end, a **MapReduce** algorithm will be implemented upon the [Apache Spark](http://spark.apache.org) framework, a fast cluster computing system. In a nutshell, Spark is an open source framework designed with a *scale-out* methodology which makes it a very powerful tool for programmers or application developers to perform a massive volume of computations and data processing in distributed environments. Sparks provides high-level APIs that make it easy to build parallel apps without needing to worry about how your code and data are parallelized/distributed thought the computing cluster. Spark does it all for you.\n",
    " \n",
    "The implementation will follow the Market Basket Analysis algorithm presented by Jongwook Woo and Yuhang Xu (2012). The image **workflow.svg** Illustrates the algorithm's workflow, and is to be used for consultation throughout this TP. The blue boxes are the ones where you must implement a method to perform a map or reduce function, and the grey boxes represent their expected output. **All these operations are explained in details in the following sections.** \n",
    "\n",
    "<!---\n",
    "# ![scale=0.5](workflow.svg \"Algorithm Workflow\")\n",
    "-->\n",
    "\n",
    "## 1. Setting up Spark\n",
    "\n",
    "Spark runs on both Windows and UNIX-like systems (e.g., Linux, Mac OS). It's easy to run locally on one machine — all you need is to have Java installed on your system PATH, or the JAVA_HOME environment variable pointing to a Java installation. It is recommended that you have the **JDK v8** installed in your system. If you haven't, go to [Java's web page](https://www.oracle.com/technetwork/java/javase/downloads/jdk8-downloads-2133151.html) to download and install a Java Virtual Machine. Remember to set the environment variable JAVA_HOME if your installation does not do it automatically for you. \n",
    "\n",
    "The interface between Python and Spark is done through **PySpark**, which can be obtained following the sequence below:\n",
    "\n",
    "1. First, go to http://spark.apache.org/downloads \n",
    "2. Select the newest Spark release and the Pre-built for Apache Hadoop 2.7 package \n",
    "3. Click for download **spark-2.4.4-bin-hadoop2.7.tgz** and unzip it in any folder of your preference. \n",
    "4. Next, export the following variables to link PYSPARK (Spark's python interface) to your python distribution in yout `~/.bash_profile` file.\n",
    "```\n",
    "    - export SPARK_HOME=/path/to/spark-2.4.4-bin-hadoop2.7\n",
    "    - export PYTHONPATH=\"$SPARK_HOME/python:$SPARK_HOME/python/lib/py4j-0.10.7-src.zip:$SPARK_HOME/python/lib/pyspark.zip:$PYTHONPATH\"\n",
    "    - export PYSPARK_PYTHON=/path/to/your/python3\n",
    "```\n",
    "5. Run `source ~./bash_profile` to effictate the changes and reinitializate this jupyter notebook session."
   ]
  },
  {
   "cell_type": "markdown",
   "metadata": {},
   "source": [
    "### 1.1 Product Counting Example \n",
    "\n",
    "To test your installation and start to get familiarized with Spark, we will follow an example that counts how many times the products of a toy dataset were purchased.\n",
    "\n",
    "The main entry point to start programming with Spark is the [RDD API](https://spark.apache.org/docs/latest/api/python/pyspark.html#pyspark.RDD), an excellent Spark abstraction to work with the MapReduce framework.  RDD is a collection of elements partitioned across the nodes of the cluster that can operate in parallel. In other words, RDD is how Spark keeps your data ready to perform some function (e.g., a map or reduce function) in parallel. **Do not worry if this still sounds confusing, it will be clear once you start implementing**. However, it is part of this TP to study/consult the [Spark python API](https://spark.apache.org/docs/latest/api/python/) and learn how to use it. Some useful functions that the RDD API offers are:\n",
    "\n",
    "1. **map**: return a new RDD by applying a function to each element of this RDD.\n",
    "2. **flatMap**: return a new RDD by first applying a function to all elements of this RDD, and then flattening the results. **Should be used when each entry will yield more than one mapped element**\n",
    "3. **reduce**: reduces the elements of this RDD using the specified commutative and associative binary operator.\n",
    "4. **reduceByKey**: merge the values for each key using an associative and commutative reduce function\n",
    "5. **groupByKey**: group the values for each key in the RDD into a single sequence\n",
    "6. **collect**: return a list that contains all of the elements in this RDD. **Should not be used when working with a lot of data**\n",
    "7. **sample**: return a sampled subset of this RDD\n",
    "8. **count**: return the number of elements in this RDD.\n",
    "9. **filter**: return a new RDD containing only the elements that satisfy a predicate."
   ]
  },
  {
   "cell_type": "code",
   "execution_count": 3,
   "metadata": {
    "scrolled": false
   },
   "outputs": [
    {
     "name": "stdout",
     "output_type": "stream",
     "text": [
      "Toy dataset\n",
      "+--------+-----------+\n",
      "|order_id|transaction|\n",
      "+--------+-----------+\n",
      "|       1|      a;b;c|\n",
      "|       2|      a;b;d|\n",
      "|       3|        b;c|\n",
      "|       4|        b;c|\n",
      "+--------+-----------+\n",
      "\n",
      "Toy dataframe as a RDD object (list of Row objects):\n",
      "\t [Row(order_id='1', transaction='a;b;c'), Row(order_id='2', transaction='a;b;d'), Row(order_id='3', transaction='b;c'), Row(order_id='4', transaction='b;c')]\n",
      "\n",
      "Mapped products:\n",
      "\t [('a', 1), ('b', 1), ('c', 1), ('a', 1), ('b', 1), ('d', 1), ('b', 1), ('c', 1), ('b', 1), ('c', 1)]\n",
      "\n",
      "Reduced (merged) products:\n",
      "\t [('a', 2), ('b', 4), ('c', 3), ('d', 1)]\n",
      "\n",
      "Visualizing as a dataframe:\n",
      "+-------+-------------+\n",
      "|product|count_product|\n",
      "+-------+-------------+\n",
      "|      a|            2|\n",
      "|      b|            4|\n",
      "|      c|            3|\n",
      "|      d|            1|\n",
      "+-------+-------------+\n",
      "\n"
     ]
    }
   ],
   "source": [
    "from pyspark.sql import SparkSession\n",
    "from itertools import combinations as comb\n",
    "\n",
    "def map_to_product(row):\n",
    "    \"\"\"\n",
    "    Map each transaction into a set of KEY-VALUE elements.\n",
    "    The KEY is the word (product) itself and the VALUE is its number of apparitions.\n",
    "    \"\"\"\n",
    "    products = row.transaction.split(';') # split products from the column transaction\n",
    "    for p in products:\n",
    "        yield (p, 1)\n",
    "\n",
    "def reduce_product_by_key(value1, value2):\n",
    "    \"Reduce the mapped objects to unique words by merging (summing ) their values\"\n",
    "    return value1+value2\n",
    "\n",
    "# Initializates a object of SparkSession class, main entry point to Spark's funcionalites\n",
    "spark = SparkSession.builder.getOrCreate()\n",
    "        \n",
    "# Read a toy dataset\n",
    "toy = spark.read.csv('./toy.csv', header=True)\n",
    "print(\"Toy dataset\")\n",
    "toy.show()\n",
    "\n",
    "# Obtain a RDD object to call a map function\n",
    "toy_rdd = toy.rdd\n",
    "print(\"Toy dataframe as a RDD object (list of Row objects):\\n\\t\", toy_rdd.collect())\n",
    "# Map function to identify all products\n",
    "toy_rdd = toy_rdd.flatMap(map_to_product)\n",
    "print(\"\\nMapped products:\\n\\t\", toy_rdd.collect())\n",
    "\n",
    "# Reduce function to merge values of elements that share the same KEY\n",
    "toy_rdd = toy_rdd.reduceByKey(reduce_product_by_key)\n",
    "print(\"\\nReduced (merged) products:\\n\\t\", toy_rdd.collect())\n",
    "\n",
    "print(\"\\nVisualizing as a dataframe:\")\n",
    "toy_rdd.toDF([\"product\", \"count_product\"]).show()"
   ]
  },
  {
   "cell_type": "markdown",
   "metadata": {},
   "source": [
    "### 1.2 Working the Spark's Dataframe\n",
    "\n",
    "In the example above, we briefly used a Spark's Dataframe class, but only to obtain an RDD object with ```toy.rdd``` and to print the data as a structured table with the ```show()``` function. However, [Dataframe](https://spark.apache.org/docs/latest/api/python/pyspark.sql.html#) is a big part of the current Spark release and is built upon the RDD API. It is a distributed collection of rows under named columns, the same as a table in a relational database. Spark's Dataframe works similarily as [Pandas'](https://pandas.pydata.org/pandas-docs/stable/reference/api/pandas.DataFrame.html). In fact, we can export (obtain) a Spark's data frame to (from) a pandas' data frame with the function ```toPandas()``` (```spark.createDataFrame```).\n",
    "\n",
    "A central functionality of the data frame is to profit from the [Spark SQL](https://spark.apache.org/docs/latest/sql-programming-guide.html#sql), a module that allows SQL queries over structured data. For example, the same 'product counting example' could have been implemented as a sequence of SQL operations over the data:  "
   ]
  },
  {
   "cell_type": "code",
   "execution_count": 4,
   "metadata": {},
   "outputs": [
    {
     "name": "stdout",
     "output_type": "stream",
     "text": [
      "New column 'products': exploding the transaction's products to a new row\n",
      "+--------+-----------+--------+\n",
      "|order_id|transaction|products|\n",
      "+--------+-----------+--------+\n",
      "|       1|      a;b;c|       a|\n",
      "|       1|      a;b;c|       b|\n",
      "|       1|      a;b;c|       c|\n",
      "|       2|      a;b;d|       a|\n",
      "|       2|      a;b;d|       b|\n",
      "|       2|      a;b;d|       d|\n",
      "|       3|        b;c|       b|\n",
      "|       3|        b;c|       c|\n",
      "|       4|        b;c|       b|\n",
      "|       4|        b;c|       c|\n",
      "+--------+-----------+--------+\n",
      "\n",
      "Couting unique products:\n",
      "+--------+-------------+\n",
      "|products|count_product|\n",
      "+--------+-------------+\n",
      "|       b|            4|\n",
      "|       c|            3|\n",
      "|       a|            2|\n",
      "|       d|            1|\n",
      "+--------+-------------+\n",
      "\n"
     ]
    }
   ],
   "source": [
    "import pyspark.sql.functions as f\n",
    "\n",
    "# Creates a new column, products, with all products appering in each transaction\n",
    "print('New column \\'products\\': exploding the transaction\\'s products to a new row')\n",
    "df_toy = toy.withColumn('products', f.explode(f.split(toy.transaction, ';')))\n",
    "df_toy.show()\n",
    "\n",
    "# Performs a select query and group rows by the product name, aggreagating by counting\n",
    "print('Couting unique products:')\n",
    "df_toy.select(df_toy.products)\\\n",
    "      .groupBy(df_toy.products)\\\n",
    "      .agg(f.count('products').alias('count_product'))\\\n",
    "      .sort('count_product', ascending=False)\\\n",
    "      .show()"
   ]
  },
  {
   "cell_type": "markdown",
   "metadata": {},
   "source": [
    "Also, the same SQL operations performed above could have been done with a traditional SQL language query as showing below:"
   ]
  },
  {
   "cell_type": "code",
   "execution_count": 5,
   "metadata": {},
   "outputs": [
    {
     "name": "stdout",
     "output_type": "stream",
     "text": [
      "+--------+-------------+\n",
      "|products|product_count|\n",
      "+--------+-------------+\n",
      "|       b|            4|\n",
      "|       c|            3|\n",
      "|       a|            2|\n",
      "|       d|            1|\n",
      "+--------+-------------+\n",
      "\n"
     ]
    }
   ],
   "source": [
    "# Creates a relational table TOY in the Spark session\n",
    "df_toy.createOrReplaceTempView(\"TOY\")\n",
    "\n",
    "spark.sql(\"SELECT t.products, COUNT(t.products) AS product_count\"\n",
    "          \" FROM TOY t\"\n",
    "          \" GROUP BY t.products\"\n",
    "          \" ORDER BY product_count DESC\").show()"
   ]
  },
  {
   "cell_type": "markdown",
   "metadata": {},
   "source": [
    "These SQL concepts are being mentioned here because they will be useful to us during the TP, mainly in Section 3, to manipulate the supermarket data, which is structured in data frames. Then, if you are not familiar with SQL, it is recommended that you follow a [tutorial](https://www.w3schools.com/sql/) to understand the basics.\n",
    "\n",
    "## 2. MBA Algorithm \n",
    " The following sections explain how you should develop each step of the MapReduce algorithm for our supermarket application. Figure workflow.png illustrates each step of the algorithm.\n",
    " \n",
    "### 2.1 Map to Patterns (10 points)\n",
    "For a given a set of transactions (i.e., the rows of our toy dataset), each transaction must be **mapped** into a set of *purchase patterns* found within the transaction. Formally, these patterns are subsets of products that represent a group of items bought together. \n",
    "    \n",
    "For the MapReduce framework, each pattern must be created as a *KEY-VALUE* element, where they KEY can take the form of a singleton, a pair or a trio of products that are present in the transaction. More precisely, for each transaction, the mapping function must generate all possible **unique** subsets of size **ONE, TWO or THREE**.  The VALUE associated with each KEY is the number of times that the KEY appeared in the transaction (if we assume that no product appears more than once in the transaction, this value is always equal to one). \n",
    "\n",
    "Now, implement the  **map_to_patterns** function that receives a transaction (a row from the data frame) and returns the patterns found in the transaction. The mapped elements are a tuple (KEY, VALUE), where KEY is also a tuple of product names. It is crucial to notice that, since each entry (transaction) of the map function will **yield** more than one KEY-VALUE element, a *flatMap* must be invoked for this step.\n",
    "\n",
    "For the toy dataset, the expected output is similar to:\n",
    "\n",
    "<pre style=\"align:center; border:1px solid black;font-size: 10pt; line-height: 1.1; height: auto; width: 18em; padding-left:5px\">\n",
    "<code>\n",
    "+---------------+-----------+\n",
    "|       patterns|occurrences|\n",
    "+---------------+-----------+\n",
    "|         ('a',)|          1|\n",
    "|     ('a', 'b')|          1|\n",
    "|('a', 'b', 'c')|          1|\n",
    "|     ('a', 'c')|          1|\n",
    "|         ('b',)|          1|\n",
    "|     ('b', 'c')|          1|\n",
    "|         ('c',)|          1|\n",
    "|         ('a',)|          1|\n",
    "|     ('a', 'b')|          1|\n",
    "|('a', 'b', 'd')|          1|\n",
    "|     ('a', 'd')|          1|\n",
    "|         ('b',)|          1|\n",
    "|     ('b', 'd')|          1|\n",
    "|         ('d',)|          1|\n",
    "|         ('b',)|          1|\n",
    "|     ('b', 'c')|          1|\n",
    "|         ('c',)|          1|\n",
    "|         ('b',)|          1|\n",
    "|     ('b', 'c')|          1|\n",
    "|         ('c',)|          1|\n",
    "+---------------+-----------+\n",
    "</code>\n",
    "</pre>"
   ]
  },
  {
   "cell_type": "code",
   "execution_count": 6,
   "metadata": {},
   "outputs": [
    {
     "name": "stdout",
     "output_type": "stream",
     "text": [
      "+---------------+-----------+\n",
      "|       patterns|occurrences|\n",
      "+---------------+-----------+\n",
      "|         ('a',)|          1|\n",
      "|         ('b',)|          1|\n",
      "|         ('c',)|          1|\n",
      "|     ('a', 'b')|          1|\n",
      "|     ('a', 'c')|          1|\n",
      "|     ('b', 'c')|          1|\n",
      "|('a', 'b', 'c')|          1|\n",
      "|         ('a',)|          1|\n",
      "|         ('b',)|          1|\n",
      "|         ('d',)|          1|\n",
      "|     ('a', 'b')|          1|\n",
      "|     ('a', 'd')|          1|\n",
      "|     ('b', 'd')|          1|\n",
      "|('a', 'b', 'd')|          1|\n",
      "|         ('b',)|          1|\n",
      "|         ('c',)|          1|\n",
      "|     ('b', 'c')|          1|\n",
      "|         ('b',)|          1|\n",
      "|         ('c',)|          1|\n",
      "|     ('b', 'c')|          1|\n",
      "+---------------+-----------+\n",
      "\n"
     ]
    }
   ],
   "source": [
    "def get_pattern_list(row):\n",
    "    pattern_list = []\n",
    "    # Separate the products with the \";\" as a delemiter\n",
    "    products = row.transaction.split(';')\n",
    "    products = sorted(products)\n",
    "    #From one to the maximum number of products, since we do not want an empty combination \n",
    "    for i in range(1, 4):\n",
    "        #Combine the products using combinations imported from itertools\n",
    "        pattern_list+=(list(comb(products, i)))\n",
    "    return pattern_list\n",
    "\n",
    "def format_tuples(pattern):\n",
    "    \"\"\"\n",
    "    Used for visualizition.\n",
    "    Transforms tuples to a string since Dataframe does not support column of tuples with different sizes\n",
    "    (a,b,c) -> '(a,b,c)'\n",
    "    \"\"\"\n",
    "    return (str(pattern[0]), str(pattern[1]))\n",
    "\n",
    "def map_to_patterns(row):\n",
    "    #Get all the different combination of products (patterns)\n",
    "    pattern_list = get_pattern_list(row)\n",
    "    for pattern in pattern_list:\n",
    "        # Associate each pattern to the number 1 indicating the number of occurences\n",
    "        yield (pattern, 1)\n",
    "\n",
    "toy_rdd = toy.rdd\n",
    "\n",
    "patterns_rdd = toy_rdd.flatMap(map_to_patterns)\n",
    "\n",
    "# Output as dataframe\n",
    "patterns_rdd.map(format_tuples).toDF(['patterns', 'occurrences']).show()"
   ]
  },
  {
   "cell_type": "markdown",
   "metadata": {},
   "source": [
    "### 2.2 Reduce patterns (2.5 points)\n",
    "Once different CPUs processed the transactions, a **reduce** function must take place to combine identical KEYS (the subset of products) and compute the total number of its occurrences in the entire dataset. In other words, this reduce procedure must sum the *VALUE* of each identical KEY.\n",
    "\n",
    "Create a **reduce_patterns** function below that must sum the VALUE of each pattern.\n",
    "For the toy dataset, the expected output is:\n",
    "<pre style=\"align:center; border:1px solid black;font-size: 10pt; line-height: 1.1; height: auto; width: 24em; padding-left:5px\">\n",
    "<code>\n",
    "+---------------+--------------------+\n",
    "|       patterns|combined_occurrences|\n",
    "+---------------+--------------------+\n",
    "|         ('a',)|                   2|\n",
    "|     ('a', 'b')|                   2|\n",
    "|('a', 'b', 'c')|                   1|\n",
    "|     ('a', 'c')|                   1|\n",
    "|         ('b',)|                   4|\n",
    "|     ('b', 'c')|                   3|\n",
    "|         ('c',)|                   3|\n",
    "|('a', 'b', 'd')|                   1|\n",
    "|     ('a', 'd')|                   1|\n",
    "|     ('b', 'd')|                   1|\n",
    "|         ('d',)|                   1|\n",
    "+---------------+--------------------+\n",
    "</code>\n",
    "</pre>\n"
   ]
  },
  {
   "cell_type": "code",
   "execution_count": 7,
   "metadata": {},
   "outputs": [
    {
     "name": "stdout",
     "output_type": "stream",
     "text": [
      "+---------------+--------------------+\n",
      "|       patterns|combined_occurrences|\n",
      "+---------------+--------------------+\n",
      "|         ('a',)|                   2|\n",
      "|         ('b',)|                   4|\n",
      "|         ('c',)|                   3|\n",
      "|     ('a', 'b')|                   2|\n",
      "|     ('a', 'c')|                   1|\n",
      "|     ('b', 'c')|                   3|\n",
      "|('a', 'b', 'c')|                   1|\n",
      "|         ('d',)|                   1|\n",
      "|     ('a', 'd')|                   1|\n",
      "|     ('b', 'd')|                   1|\n",
      "|('a', 'b', 'd')|                   1|\n",
      "+---------------+--------------------+\n",
      "\n"
     ]
    }
   ],
   "source": [
    "# Add up all the occurences for each similar key(pattern)\n",
    "combined_patterns_rdd = patterns_rdd.reduceByKey(reduce_product_by_key)\n",
    "\n",
    "# Output as dataframe\n",
    "combined_patterns_rdd.map(format_tuples).toDF(['patterns', 'combined_occurrences']).show()"
   ]
  },
  {
   "cell_type": "markdown",
   "metadata": {},
   "source": [
    "### 2.3 Map to subpatterns (15 points)\n",
    "Next, another **map** function should be applied to generate subpatterns. Once again, the subpatterns are KEY-VALUE elements, where the KEY is a subset of products as well. However, creating the subpattern's KEY is a different procedure. This time, the idea is to break down the list of products of each pattern (pattern KEY), remove one product at a time, and yield the resulting list as the new subpattern KEY. \n",
    "\n",
    "For example, for a given pattern $P$ with three products, $p_1, p_2 $ and $p_3$, three new subpatterns KEYs are going to be created: (i) remove $p_1$ and yield ($p_2, p_3$); (ii) remove $p_2$ and yield ($p_1,p_3$); and (iii) remove $p_3$ and yield ($p_1,p_2$). \n",
    "\n",
    "Additionally, the subpattern's VALUE structure will also be different. Instead of just single integer value as we had in the patterns, this time a *tuple* should be created for the subpattern VALUE. This tuple contains the product that was removed when yielding the KEY and the number of times the pattern appeared. For the example above, the values should be ($p_1,v$), ($p_2,v$) and ($p_3,v$), respectively, where $v$ is the VALUE of the pattern. \n",
    "\n",
    "The idea behind subpatterns is to create **rules** such as: when the products of KEY were bought, the item present in the VALUE was also bought *v* times. Furthermore, each pattern should also yield a subpattern where the KEY is the same list of products of the pattern, but the VALUE is a tuple with a null product (None) and the number of times the pattern appeared. This element will be useful to keep track of how many times such a pattern was found and later will be used to compute the confidence value when generating the association rules. \n",
    "\n",
    "Now, implement the  **map_to_subpatterns** function that receives a pattern and yields all found subpatterns. Once again, each entry (pattern) will generate more than one KEY-VALUE element, then a flatMap function must be called.\n",
    "\n",
    "For the toy dataset, the expected output is:\n",
    "\n",
    "<pre style=\"align:center; border:1px solid black;font-size: 10pt; line-height: 1.1; height: auto; width: 17em; padding-left:5px\">\n",
    "<code>\n",
    "+---------------+---------+\n",
    "|    subpatterns|    rules|\n",
    "+---------------+---------+\n",
    "|         ('a',)|(None, 2)|\n",
    "|     ('a', 'b')|(None, 2)|\n",
    "|         ('b',)| ('a', 2)|\n",
    "|         ('a',)| ('b', 2)|\n",
    "|('a', 'b', 'c')|(None, 1)|\n",
    "|     ('b', 'c')| ('a', 1)|\n",
    "|     ('a', 'c')| ('b', 1)|\n",
    "|     ('a', 'b')| ('c', 1)|\n",
    "|     ('a', 'c')|(None, 1)|\n",
    "|         ('c',)| ('a', 1)|\n",
    "|         ('a',)| ('c', 1)|\n",
    "|         ('b',)|(None, 4)|\n",
    "|     ('b', 'c')|(None, 3)|\n",
    "|         ('c',)| ('b', 3)|\n",
    "|         ('b',)| ('c', 3)|\n",
    "|         ('c',)|(None, 3)|\n",
    "|('a', 'b', 'd')|(None, 1)|\n",
    "|     ('b', 'd')| ('a', 1)|\n",
    "|     ('a', 'd')| ('b', 1)|\n",
    "|     ('a', 'b')| ('d', 1)|\n",
    "|     ('a', 'd')|(None, 1)|\n",
    "|         ('d',)| ('a', 1)|\n",
    "|         ('a',)| ('d', 1)|\n",
    "|     ('b', 'd')|(None, 1)|\n",
    "|         ('d',)| ('b', 1)|\n",
    "|         ('b',)| ('d', 1)|\n",
    "|         ('d',)|(None, 1)|\n",
    "+---------------+---------+\n",
    "</code>\n",
    "</pre>"
   ]
  },
  {
   "cell_type": "code",
   "execution_count": 8,
   "metadata": {},
   "outputs": [
    {
     "name": "stdout",
     "output_type": "stream",
     "text": [
      "+---------------+---------+\n",
      "|    subpatterns|    rules|\n",
      "+---------------+---------+\n",
      "|         ('a',)|(None, 2)|\n",
      "|         ('b',)|(None, 4)|\n",
      "|         ('c',)|(None, 3)|\n",
      "|     ('a', 'b')|(None, 2)|\n",
      "|         ('b',)| ('a', 2)|\n",
      "|         ('a',)| ('b', 2)|\n",
      "|     ('a', 'c')|(None, 1)|\n",
      "|         ('c',)| ('a', 1)|\n",
      "|         ('a',)| ('c', 1)|\n",
      "|     ('b', 'c')|(None, 3)|\n",
      "|         ('c',)| ('b', 3)|\n",
      "|         ('b',)| ('c', 3)|\n",
      "|('a', 'b', 'c')|(None, 1)|\n",
      "|     ('b', 'c')| ('a', 1)|\n",
      "|     ('a', 'c')| ('b', 1)|\n",
      "|     ('a', 'b')| ('c', 1)|\n",
      "|         ('d',)|(None, 1)|\n",
      "|     ('a', 'd')|(None, 1)|\n",
      "|         ('d',)| ('a', 1)|\n",
      "|         ('a',)| ('d', 1)|\n",
      "|     ('b', 'd')|(None, 1)|\n",
      "|         ('d',)| ('b', 1)|\n",
      "|         ('b',)| ('d', 1)|\n",
      "|('a', 'b', 'd')|(None, 1)|\n",
      "|     ('b', 'd')| ('a', 1)|\n",
      "|     ('a', 'd')| ('b', 1)|\n",
      "|     ('a', 'b')| ('d', 1)|\n",
      "+---------------+---------+\n",
      "\n"
     ]
    }
   ],
   "source": [
    "from copy import deepcopy\n",
    "def map_to_subpatterns(pattern):\n",
    "    transaction_elements = pattern[0]\n",
    "    n_occurences = pattern[1]\n",
    "    yield(transaction_elements, (None, n_occurences))\n",
    "    if len(transaction_elements) > 1:\n",
    "        for element in transaction_elements:\n",
    "            pattern_copy = transaction_elements\n",
    "            pattern_copy = list(pattern_copy)\n",
    "            pattern_copy.remove(element)\n",
    "            tuple_copy = tuple(pattern_copy)\n",
    "            # Group the new pattern with the combination of the removed product with \n",
    "            # the number of occurences of the new pattern\n",
    "            yield(tuple_copy, (element, n_occurences))\n",
    "\n",
    "\n",
    "\n",
    "subpatterns_rdd = combined_patterns_rdd.flatMap(map_to_subpatterns)\n",
    "\n",
    "# Output as dataframe\n",
    "subpatterns_rdd.map(format_tuples).toDF(['subpatterns', 'rules']).show(100)"
   ]
  },
  {
   "cell_type": "markdown",
   "metadata": {},
   "source": [
    "### 2.4 Reduce Subpatterns (2.5 points)\n",
    "Once again, a **reduce** function will be required to group all the subpatterns by their KEY. The objective of this reducing procedure is to create a list with all the **rules** that appeared by a KEY. Hence, the expected resulting of the reduce function is also a KEY-VALUE element, where the KEY is the subpattern's KEY, and the VALUE is a group containing all the VALUEs of the subpatterns that share the same KEY.\n",
    "\n",
    "For the toy dataset, the expected output is:\n",
    "\n",
    "<pre style=\"align:center; border:1px solid black;font-size: 10pt; line-height: 1.1; height: auto; width: 36em; padding-left:5px\">\n",
    "<code>\n",
    "+---------------+-----------------------------------------+\n",
    "|subpatterns    |combined_rules                           |\n",
    "+---------------+-----------------------------------------+\n",
    "|('a',)         |[(None, 2), ('b', 2), ('c', 1), ('d', 1)]|\n",
    "|('a', 'b')     |[(None, 2), ('c', 1), ('d', 1)]          |\n",
    "|('b',)         |[('a', 2), (None, 4), ('c', 3), ('d', 1)]|\n",
    "|('a', 'b', 'c')|[(None, 1)]                              |\n",
    "|('b', 'c')     |[('a', 1), (None, 3)]                    |\n",
    "|('a', 'c')     |[('b', 1), (None, 1)]                    |\n",
    "|('c',)         |[('a', 1), ('b', 3), (None, 3)]          |\n",
    "|('a', 'b', 'd')|[(None, 1)]                              |\n",
    "|('b', 'd')     |[('a', 1), (None, 1)]                    |\n",
    "|('a', 'd')     |[('b', 1), (None, 1)]                    |\n",
    "|('d',)         |[('a', 1), ('b', 1), (None, 1)]          |\n",
    "+---------------+-----------------------------------------+\n",
    "</code>\n",
    "</pre>\n"
   ]
  },
  {
   "cell_type": "code",
   "execution_count": 9,
   "metadata": {},
   "outputs": [
    {
     "name": "stdout",
     "output_type": "stream",
     "text": [
      "+---------------+-----------------------------------------+\n",
      "|subpatterns    |combined_rules                           |\n",
      "+---------------+-----------------------------------------+\n",
      "|('a',)         |[(None, 2), ('b', 2), ('c', 1), ('d', 1)]|\n",
      "|('b',)         |[(None, 4), ('a', 2), ('c', 3), ('d', 1)]|\n",
      "|('c',)         |[(None, 3), ('a', 1), ('b', 3)]          |\n",
      "|('a', 'b')     |[(None, 2), ('c', 1), ('d', 1)]          |\n",
      "|('a', 'c')     |[(None, 1), ('b', 1)]                    |\n",
      "|('b', 'c')     |[(None, 3), ('a', 1)]                    |\n",
      "|('a', 'b', 'c')|[(None, 1)]                              |\n",
      "|('d',)         |[(None, 1), ('a', 1), ('b', 1)]          |\n",
      "|('a', 'd')     |[(None, 1), ('b', 1)]                    |\n",
      "|('b', 'd')     |[(None, 1), ('a', 1)]                    |\n",
      "|('a', 'b', 'd')|[(None, 1)]                              |\n",
      "+---------------+-----------------------------------------+\n",
      "\n"
     ]
    }
   ],
   "source": [
    "combined_rules = subpatterns_rdd.groupByKey().mapValues(list)\n",
    "# Output as dataframe\n",
    "combined_rules.map(format_tuples).toDF(['subpatterns', 'combined_rules']).show(truncate=False)"
   ]
  },
  {
   "cell_type": "markdown",
   "metadata": {},
   "source": [
    "## 2.5. Map to Association Rules (15 points)\n",
    "Finally, the last step of the algorithm is to create the association rules to perform the market basket analysis. The goal of this map function is to calculate the **confidence** level of buying a product, knowing that there is already a set of products in the basket. Thus, the KEY of the subpattern is the set of products placed in the basket and, for each product present in the list of rules, i.e., in the VALUE, the confidence can be calculated as:\n",
    "\n",
    "\\begin{align*}\n",
    "\\frac{\\text{number of times the product was bought together with KEY }}{\\text{number of times the KEY appeared}}\n",
    "\\end{align*}\n",
    "\n",
    "For the example given in the Figure workflow, *coffee* was bought 20 times and, in 17 of them, *milk* was bought together. Then, the confidence level of buying *milk* knowing that *coffee* is in the basket is $\\frac{17}{20} = 0.85$, which means that in 85% of the times the coffee was bought, milk was purchased as well.\n",
    "\n",
    "Implement the **map_to_assoc_rules** function that calculates the confidence level for each subpattern.\n",
    "\n",
    "For the toy dataset, the expected output is:\n",
    "<pre style=\"align:center; border:1px solid black;font-size: 9pt; line-height: 1.1; height: auto; width: 35em; padding-left:5px\">\n",
    "<code>\n",
    "+---------------+---------------------------------------+\n",
    "|patterns       |association_rules                      |\n",
    "+---------------+---------------------------------------+\n",
    "|('a',)         |[('b', 1.0), ('c', 0.5), ('d', 0.5)]   |\n",
    "|('a', 'b')     |[('c', 0.5), ('d', 0.5)]               |\n",
    "|('b',)         |[('a', 0.5), ('c', 0.75), ('d', 0.25)] |\n",
    "|('a', 'b', 'c')|[]                                     |\n",
    "|('b', 'c')     |[('a', 0.3333333333333333)]            |\n",
    "|('a', 'c')     |[('b', 1.0)]                           |\n",
    "|('c',)         |[('a', 0.3333333333333333), ('b', 1.0)]|\n",
    "|('a', 'b', 'd')|[]                                     |\n",
    "|('b', 'd')     |[('a', 1.0)]                           |\n",
    "|('a', 'd')     |[('b', 1.0)]                           |\n",
    "|('d',)         |[('a', 1.0), ('b', 1.0)]               |\n",
    "+---------------+---------------------------------------+\n",
    "</code>\n",
    "</pre>"
   ]
  },
  {
   "cell_type": "code",
   "execution_count": 10,
   "metadata": {},
   "outputs": [
    {
     "name": "stdout",
     "output_type": "stream",
     "text": [
      "+---------------+---------------------------------------+\n",
      "|patterns       |association_rules                      |\n",
      "+---------------+---------------------------------------+\n",
      "|('a',)         |[('b', 1.0), ('c', 0.5), ('d', 0.5)]   |\n",
      "|('b',)         |[('a', 0.5), ('c', 0.75), ('d', 0.25)] |\n",
      "|('c',)         |[('a', 0.3333333333333333), ('b', 1.0)]|\n",
      "|('a', 'b')     |[('c', 0.5), ('d', 0.5)]               |\n",
      "|('a', 'c')     |[('b', 1.0)]                           |\n",
      "|('b', 'c')     |[('a', 0.3333333333333333)]            |\n",
      "|('a', 'b', 'c')|[]                                     |\n",
      "|('d',)         |[('a', 1.0), ('b', 1.0)]               |\n",
      "|('a', 'd')     |[('b', 1.0)]                           |\n",
      "|('b', 'd')     |[('a', 1.0)]                           |\n",
      "|('a', 'b', 'd')|[]                                     |\n",
      "+---------------+---------------------------------------+\n",
      "\n"
     ]
    }
   ],
   "source": [
    "def map_to_assoc_rules(rule):\n",
    "    ratios = []\n",
    "    total_occurences = 0.0\n",
    "    for i in range(0,len(rule[1])):\n",
    "        if rule[1][i][0] == None:\n",
    "            total_occurences = rule[1][i][1]\n",
    "    for i in range(0, len(rule[1])):\n",
    "        #Checks if the first value in the fisrt tuple is not None\n",
    "        if rule[1][i][0] is not None:\n",
    "            confidence = float(rule[1][i][1])/total_occurences\n",
    "            ratios.append(( rule[1][i][0], confidence))\n",
    "    yield(rule[0], ratios)\n",
    "\n",
    "assoc_rules = combined_rules.flatMap(map_to_assoc_rules)\n",
    "\n",
    "# Output as dataframe\n",
    "assoc_rules.map(format_tuples).toDF(['patterns', 'association_rules']).show(truncate=False)"
   ]
  },
  {
   "cell_type": "markdown",
   "metadata": {},
   "source": [
    "## 3. Instacart dataset\n",
    "\n",
    "With your MBA algorithm ready to be used, now it is time to work on the real dataset. For this part of the TP, download the [instacart](https://www.instacart.com/datasets/grocery-shopping-2017) dataset and read its [description](https://gist.github.com/jeremystan/c3b39d947d9b88b3ccff3147dbcf6c6b) to understand how the dataset is structured. \n",
    "\n",
    "Before applying the developed algorithm on the instacart dataset, you must first filter the transactions to be in the same format defined by your algorithm (one transaction per row). To manipulate the data, we can use Spark's data frame and the SQL module presented in Section 1.\n",
    "\n",
    "The following code cell uses the Spark SQL module to read the orders from the ``order_products__train.csv`` and the detailed information from ``orders.csv`` and ``products.csv`` to construct a data frame that contains a list of all products ever purchased by each user."
   ]
  },
  {
   "cell_type": "code",
   "execution_count": 11,
   "metadata": {},
   "outputs": [
    {
     "name": "stdout",
     "output_type": "stream",
     "text": [
      "order_products__train.csv\n",
      "+--------+----------+-----------------+---------+\n",
      "|order_id|product_id|add_to_cart_order|reordered|\n",
      "+--------+----------+-----------------+---------+\n",
      "|       1|     49302|                1|        1|\n",
      "|       1|     11109|                2|        1|\n",
      "|       1|     10246|                3|        0|\n",
      "|       1|     49683|                4|        0|\n",
      "|       1|     43633|                5|        1|\n",
      "+--------+----------+-----------------+---------+\n",
      "only showing top 5 rows\n",
      "\n",
      "orders.csv\n",
      "+--------+-------+--------+------------+---------+-----------------+----------------------+\n",
      "|order_id|user_id|eval_set|order_number|order_dow|order_hour_of_day|days_since_prior_order|\n",
      "+--------+-------+--------+------------+---------+-----------------+----------------------+\n",
      "| 2539329|      1|   prior|           1|        2|                8|                  null|\n",
      "| 2398795|      1|   prior|           2|        3|                7|                  15.0|\n",
      "|  473747|      1|   prior|           3|        3|               12|                  21.0|\n",
      "| 2254736|      1|   prior|           4|        4|                7|                  29.0|\n",
      "|  431534|      1|   prior|           5|        4|               15|                  28.0|\n",
      "+--------+-------+--------+------------+---------+-----------------+----------------------+\n",
      "only showing top 5 rows\n",
      "\n",
      "products.csv\n",
      "+----------+--------------------+--------+-------------+\n",
      "|product_id|        product_name|aisle_id|department_id|\n",
      "+----------+--------------------+--------+-------------+\n",
      "|         1|Chocolate Sandwic...|      61|           19|\n",
      "|         2|    All-Seasons Salt|     104|           13|\n",
      "|         3|Robust Golden Uns...|      94|            7|\n",
      "|         4|Smart Ones Classi...|      38|            1|\n",
      "|         5|Green Chile Anyti...|       5|           13|\n",
      "+----------+--------------------+--------+-------------+\n",
      "only showing top 5 rows\n",
      "\n",
      "+-------+--------------------------------------------------------------------------------+\n",
      "|user_id|                                                                        products|\n",
      "+-------+--------------------------------------------------------------------------------+\n",
      "|      1|[Soda, Organic String Cheese, 0% Greek Strained Yogurt, XL Pick-A-Size Paper ...|\n",
      "|      2|[Organic Roasted Turkey Breast, Gluten Free Whole Grain Bread, Plantain Chips...|\n",
      "|      5|[Organic Raw Agave Nectar, Organic Large Extra Fancy Fuji Apple, Sharp Chedda...|\n",
      "|      7|[Panama Peach Antioxidant Infusion, Antioxidant Infusions Beverage Malawi Man...|\n",
      "|      8|[Shallot, Organic SprouTofu Silken Tofu, Nutritional Yeast Seasoning, Organic...|\n",
      "+-------+--------------------------------------------------------------------------------+\n",
      "only showing top 5 rows\n",
      "\n"
     ]
    }
   ],
   "source": [
    "df_order_prod = spark.read.csv('./instacart/order_products__train.csv', header=True, sep=',', inferSchema=True)\n",
    "print('order_products__train.csv')\n",
    "df_order_prod.show(5)\n",
    "\n",
    "df_orders = spark.read.csv('./instacart/orders.csv', header=True, sep=',', inferSchema=True)\n",
    "print('orders.csv')\n",
    "df_orders.show(5)\n",
    "\n",
    "df_products = spark.read.csv('./instacart/products.csv', header=True, sep=',', inferSchema=True)\n",
    "print('products.csv')\n",
    "df_products.show(5)\n",
    "\n",
    "\n",
    "\"\"\"\n",
    "List of products ever purchased by each user\n",
    "\"\"\"\n",
    "# USING SQL\n",
    "df_order_prod.createOrReplaceTempView(\"order_prod\") # creates table 'order_prod'\n",
    "df_orders.createOrReplaceTempView(\"orders\") # creates table 'orders'\n",
    "df_products.createOrReplaceTempView(\"products\") # creates table 'products'\n",
    "spark.sql('SELECT o.user_id, COLLECT_LIST(p.product_name) AS products' \n",
    "               ' FROM orders o '\n",
    "               ' INNER JOIN order_prod op ON op.order_id = o.order_id'\n",
    "               ' INNER JOIN products p    ON op.product_id = p.product_id'\n",
    "               ' GROUP BY user_id ORDER BY o.user_id').show(5, truncate=80)\n",
    "\n",
    "\n",
    "# USING DATAFRAME OPERATIONS\n",
    "# df_orders.join(df_order_prod, df_order_prod.order_id == df_orders.order_id, 'inner')\\\n",
    "# .join(df_products, df_products.product_id == df_order_prod.product_id, 'inner')\\\n",
    "# .groupBy(df_orders.user_id).agg(f.collect_list(df_products.product_name).alias('products'))\\\n",
    "# .orderBy(df_orders.user_id).show(5, truncate=80)"
   ]
  },
  {
   "cell_type": "markdown",
   "metadata": {},
   "source": [
    "### 3.1 Business Insights (25 points) \n",
    "\n",
    "Now, you are the data scientist. Considering only the orders from ``order_products__train.csv``, use of Spark SQL module, performing with SQL or data frame, to answer the following questions:\n",
    "\n",
    "1. What are the top 10 products which have the highest probability of being reordered (consider only products purchased at least 40 times)? \n",
    "2. What are the busiest shopping hours for each department?\n",
    "    - Hint: plot a figure containing a time series for each department \n",
    "4. What is the size of the orders (basket size)? \n",
    "    - Hint: plot the basket size distribution "
   ]
  },
  {
   "cell_type": "code",
   "execution_count": 14,
   "metadata": {},
   "outputs": [
    {
     "name": "stdout",
     "output_type": "stream",
     "text": [
      "+----------+-----+-------------+-----------+\n",
      "|product_id|proba|total_reorder|n_purchases|\n",
      "+----------+-----+-------------+-----------+\n",
      "|      8558|  1.0|           12|         83|\n",
      "|     39507|  1.0|           12|        102|\n",
      "|     15952|  1.0|           12|         88|\n",
      "|     20320|  1.0|           10|         49|\n",
      "|      5793|  1.0|           10|         86|\n",
      "|     15293|  1.0|           10|         69|\n",
      "|     34631|  1.0|           10|         98|\n",
      "|      1465|  1.0|           10|         90|\n",
      "|     37414|  1.0|           10|         80|\n",
      "|     32112|  1.0|           10|         88|\n",
      "+----------+-----+-------------+-----------+\n",
      "\n"
     ]
    }
   ],
   "source": [
    "# 1. What are the top 10 products which have the highest probability of being reordered (consider only products purchased at least 40 times)? \n",
    "spark.sql('SELECT product_id, AVG(reordered) AS proba, '\n",
    "          'SUM(reordered) AS total_reorder, SUM(add_to_cart_order) as n_purchases '\n",
    "          'FROM order_prod '\n",
    "          'GROUP BY product_id '\n",
    "          'HAVING SUM(add_to_cart_order) >= 40 '\n",
    "          'ORDER BY proba DESC, '\n",
    "          'total_reorder DESC LIMIT 10 '\n",
    "          ).show(10, truncate=80)"
   ]
  },
  {
   "cell_type": "code",
   "execution_count": 15,
   "metadata": {},
   "outputs": [
    {
     "name": "stdout",
     "output_type": "stream",
     "text": [
      "+----------+-------------+-----------------+\n",
      "|occurences|department_id|order_hour_of_day|\n",
      "+----------+-------------+-----------------+\n",
      "|      8718|            1|               14|\n",
      "|       133|           10|               14|\n",
      "|      1801|           11|               14|\n",
      "|      2670|           12|               14|\n",
      "|      7127|           13|               14|\n",
      "+----------+-------------+-----------------+\n",
      "only showing top 5 rows\n",
      "\n"
     ]
    }
   ],
   "source": [
    "# 2. What are the busiest shopping hours for each department?\n",
    "\n",
    "occurences_per_hours = spark.sql('SELECT department_id, order_hour_of_day, COUNT(*) AS occurences '\n",
    "          'FROM order_prod, orders, products '\n",
    "          'WHERE order_prod.order_id = orders.order_id '\n",
    "          'AND order_prod.product_id = products.product_id '       \n",
    "          'GROUP BY department_id, order_hour_of_day '\n",
    "          'ORDER BY department_id, order_hour_of_day DESC')\n",
    "\n",
    "occurences_per_hours.createOrReplaceTempView(\"occurences_per_hours\") \n",
    "max_table = spark.sql('SELECT department_id, '\n",
    "                      'MAX(occurences_per_hours.occurences) as top_busy_hours '\n",
    "                      'FROM occurences_per_hours '\n",
    "                      'GROUP BY department_id ')\n",
    "\n",
    "max_table.createOrReplaceTempView(\"max_table\") \n",
    "spark.sql('SELECT occurences_per_hours.occurences, '\n",
    "          'occurences_per_hours.department_id, occurences_per_hours.order_hour_of_day '\n",
    "          'FROM occurences_per_hours, max_table '\n",
    "          'WHERE occurences_per_hours.occurences = max_table.top_busy_hours '\n",
    "          'AND occurences_per_hours.department_id = max_table.department_id '\n",
    "          'ORDER BY occurences_per_hours.department_id ASC').show(5, truncate=80)\n"
   ]
  },
  {
   "cell_type": "code",
   "execution_count": 16,
   "metadata": {},
   "outputs": [],
   "source": [
    "department_ids = set()\n",
    "top_hour = []\n",
    "n_orders = []\n",
    "for elem in occurences_per_hours.collect():\n",
    "    department_ids.add(elem.department_id)\n",
    "    \n",
    "\n",
    "for dep_id in department_ids:\n",
    "    hours = []\n",
    "    orders = []\n",
    "    for i, elem in enumerate(occurences_per_hours.collect()):\n",
    "        if dep_id == elem.department_id:\n",
    "\n",
    "            hours.append(elem.order_hour_of_day)\n",
    "            orders.append(elem.occurences)\n",
    "    top_hour.append(hours)\n",
    "    n_orders.append(orders)"
   ]
  },
  {
   "cell_type": "markdown",
   "metadata": {},
   "source": [
    "### Plot of the figures containing a time series for each department"
   ]
  },
  {
   "cell_type": "code",
   "execution_count": 17,
   "metadata": {},
   "outputs": [],
   "source": [
    "import matplotlib.pyplot as plt"
   ]
  },
  {
   "cell_type": "code",
   "execution_count": 18,
   "metadata": {},
   "outputs": [
    {
     "data": {
      "image/png": "[encoded data removed]",
      "text/plain": [
       "<Figure size 432x288 with 1 Axes>"
      ]
     },
     "metadata": {
      "needs_background": "light"
     },
     "output_type": "display_data"
    },
    {
     "data": {
      "image/png": "[encoded data removed]",
      "text/plain": [
       "<Figure size 432x288 with 1 Axes>"
      ]
     },
     "metadata": {
      "needs_background": "light"
     },
     "output_type": "display_data"
    },
    {
     "data": {
      "image/png": "[encoded data removed]",
      "text/plain": [
       "<Figure size 432x288 with 1 Axes>"
      ]
     },
     "metadata": {
      "needs_background": "light"
     },
     "output_type": "display_data"
    },
    {
     "data": {
      "image/png": "[encoded data removed]",
      "text/plain": [
       "<Figure size 432x288 with 1 Axes>"
      ]
     },
     "metadata": {
      "needs_background": "light"
     },
     "output_type": "display_data"
    },
    {
     "data": {
      "image/png": "[encoded data removed]",
      "text/plain": [
       "<Figure size 432x288 with 1 Axes>"
      ]
     },
     "metadata": {
      "needs_background": "light"
     },
     "output_type": "display_data"
    },
    {
     "data": {
      "image/png": "[encoded data removed]",
      "text/plain": [
       "<Figure size 432x288 with 1 Axes>"
      ]
     },
     "metadata": {
      "needs_background": "light"
     },
     "output_type": "display_data"
    },
    {
     "data": {
      "image/png": "[encoded data removed]",
      "text/plain": [
       "<Figure size 432x288 with 1 Axes>"
      ]
     },
     "metadata": {
      "needs_background": "light"
     },
     "output_type": "display_data"
    },
    {
     "data": {
      "image/png": "[encoded data removed]",
      "text/plain": [
       "<Figure size 432x288 with 1 Axes>"
      ]
     },
     "metadata": {
      "needs_background": "light"
     },
     "output_type": "display_data"
    },
    {
     "data": {
      "image/png": "[encoded data removed]",
      "text/plain": [
       "<Figure size 432x288 with 1 Axes>"
      ]
     },
     "metadata": {
      "needs_background": "light"
     },
     "output_type": "display_data"
    },
    {
     "data": {
      "image/png": "[encoded data removed]",
      "text/plain": [
       "<Figure size 432x288 with 1 Axes>"
      ]
     },
     "metadata": {
      "needs_background": "light"
     },
     "output_type": "display_data"
    },
    {
     "data": {
      "image/png": "[encoded data removed]",
      "text/plain": [
       "<Figure size 432x288 with 1 Axes>"
      ]
     },
     "metadata": {
      "needs_background": "light"
     },
     "output_type": "display_data"
    },
    {
     "data": {
      "image/png": "[encoded data removed]",
      "text/plain": [
       "<Figure size 432x288 with 1 Axes>"
      ]
     },
     "metadata": {
      "needs_background": "light"
     },
     "output_type": "display_data"
    },
    {
     "data": {
      "image/png": "[encoded data removed]",
      "text/plain": [
       "<Figure size 432x288 with 1 Axes>"
      ]
     },
     "metadata": {
      "needs_background": "light"
     },
     "output_type": "display_data"
    },
    {
     "data": {
      "image/png": "[encoded data removed]",
      "text/plain": [
       "<Figure size 432x288 with 1 Axes>"
      ]
     },
     "metadata": {
      "needs_background": "light"
     },
     "output_type": "display_data"
    },
    {
     "data": {
      "image/png": "[encoded data removed]",
      "text/plain": [
       "<Figure size 432x288 with 1 Axes>"
      ]
     },
     "metadata": {
      "needs_background": "light"
     },
     "output_type": "display_data"
    },
    {
     "data": {
      "image/png": "[encoded data removed]",
      "text/plain": [
       "<Figure size 432x288 with 1 Axes>"
      ]
     },
     "metadata": {
      "needs_background": "light"
     },
     "output_type": "display_data"
    },
    {
     "data": {
      "image/png": "[encoded data removed]",
      "text/plain": [
       "<Figure size 432x288 with 1 Axes>"
      ]
     },
     "metadata": {
      "needs_background": "light"
     },
     "output_type": "display_data"
    },
    {
     "data": {
      "image/png": "[encoded data removed]",
      "text/plain": [
       "<Figure size 432x288 with 1 Axes>"
      ]
     },
     "metadata": {
      "needs_background": "light"
     },
     "output_type": "display_data"
    },
    {
     "data": {
      "image/png": "[encoded data removed]",
      "text/plain": [
       "<Figure size 432x288 with 1 Axes>"
      ]
     },
     "metadata": {
      "needs_background": "light"
     },
     "output_type": "display_data"
    },
    {
     "data": {
      "image/png": "[encoded data removed]",
      "text/plain": [
       "<Figure size 432x288 with 1 Axes>"
      ]
     },
     "metadata": {
      "needs_background": "light"
     },
     "output_type": "display_data"
    },
    {
     "data": {
      "image/png": "[encoded data removed]",
      "text/plain": [
       "<Figure size 432x288 with 1 Axes>"
      ]
     },
     "metadata": {
      "needs_background": "light"
     },
     "output_type": "display_data"
    }
   ],
   "source": [
    "for i in range(0, len(top_hour)):\n",
    "    plt.bar(top_hour[i],n_orders[i])\n",
    "    plt.xlabel(\"Hours\")\n",
    "    plt.ylabel(\"Number of orders\")\n",
    "    plt.title(\"Number of orders for every hour for department \" + str(list(department_ids)[i]))\n",
    "    plt.show()"
   ]
  },
  {
   "cell_type": "code",
   "execution_count": 19,
   "metadata": {},
   "outputs": [
    {
     "name": "stdout",
     "output_type": "stream",
     "text": [
      "+--------+----------+\n",
      "|order_id|size_order|\n",
      "+--------+----------+\n",
      "| 2813632|        80|\n",
      "| 1395075|        80|\n",
      "|  949182|        77|\n",
      "| 2869702|        76|\n",
      "|  341238|        76|\n",
      "+--------+----------+\n",
      "only showing top 5 rows\n",
      "\n"
     ]
    }
   ],
   "source": [
    "# 3. What is the size of the orders (basket size)? \n",
    "basket_size_distribution = spark.sql('SELECT order_id, COUNT(order_id) AS size_order '\n",
    "          'FROM order_prod '\n",
    "          'GROUP BY order_id '\n",
    "          'ORDER BY size_order DESC'\n",
    "         )\n",
    "basket_size_distribution.show(5, truncate=80)"
   ]
  },
  {
   "cell_type": "code",
   "execution_count": 20,
   "metadata": {},
   "outputs": [],
   "source": [
    "all_basket_sizes = set()\n",
    "count_list = []\n",
    "n_baskets_per_size = []\n",
    "for elem in basket_size_distribution.collect():\n",
    "    all_basket_sizes.add(elem.size_order)\n",
    "for size in all_basket_sizes:\n",
    "    counter_orders = 0\n",
    "    for elem in basket_size_distribution.collect():\n",
    "        if elem.size_order == size:\n",
    "            counter_orders += 1\n",
    "    count_list.append(counter_orders)\n"
   ]
  },
  {
   "cell_type": "markdown",
   "metadata": {},
   "source": [
    "### Plot the distribution of the number of orders"
   ]
  },
  {
   "cell_type": "code",
   "execution_count": 21,
   "metadata": {},
   "outputs": [
    {
     "data": {
      "image/png": "[encoded data removed]",
      "text/plain": [
       "<Figure size 432x288 with 1 Axes>"
      ]
     },
     "metadata": {
      "needs_background": "light"
     },
     "output_type": "display_data"
    }
   ],
   "source": [
    "plt.bar(list(all_basket_sizes), count_list)\n",
    "plt.xlabel(\"Basket size\")\n",
    "plt.ylabel(\"Number of orders\")\n",
    "plt.title(\"Number of orders by basket size\")\n",
    "plt.show()"
   ]
  },
  {
   "cell_type": "markdown",
   "metadata": {},
   "source": [
    "### 3.2 Run MBA for the training set (15 points)\n",
    "\n",
    "Using the orders from the ``order_products__train.csv``, create a data frame where each row contain just one column, the transaction, with the list of purchased products. For this task, you do not have to query for the product names to run the MBA algorithm. You can assume that the product name is its id. This can accelerate the algorithm since the product names can be quite big.\n",
    "\n",
    "You must report the time spent to perform this task."
   ]
  },
  {
   "cell_type": "code",
   "execution_count": 12,
   "metadata": {},
   "outputs": [
    {
     "name": "stdout",
     "output_type": "stream",
     "text": [
      "Wall time: 8.01 ms\n"
     ]
    }
   ],
   "source": [
    "%%time\n",
    "\"\"\"\n",
    "TODO: create a query to create and sctruct the transactions\n",
    "\"\"\"\n",
    "table_transactions = spark.sql('SELECT COLLECT_LIST(op.product_id) AS products '\n",
    "          'FROM order_prod AS op '\n",
    "          'GROUP BY op.order_id '\n",
    "          'ORDER BY op.order_id ASC' )"
   ]
  },
  {
   "cell_type": "code",
   "execution_count": 13,
   "metadata": {},
   "outputs": [
    {
     "name": "stdout",
     "output_type": "stream",
     "text": [
      "+--------------------------------------------------------------------------------+\n",
      "|                                                                        products|\n",
      "+--------------------------------------------------------------------------------+\n",
      "|                        [49302, 11109, 10246, 49683, 43633, 13176, 47209, 22035]|\n",
      "|                        [39612, 19660, 49235, 43086, 46620, 34497, 48679, 46979]|\n",
      "|                  [11913, 18159, 4461, 21616, 23622, 32433, 28842, 42625, 39693]|\n",
      "|                               [20574, 30391, 40706, 25610, 27966, 24489, 39275]|\n",
      "|[8859, 19731, 43654, 13176, 4357, 37664, 34065, 35951, 43560, 9896, 27509, 15...|\n",
      "+--------------------------------------------------------------------------------+\n",
      "only showing top 5 rows\n",
      "\n"
     ]
    }
   ],
   "source": [
    "table_transactions.show(5, truncate=80)"
   ]
  },
  {
   "cell_type": "code",
   "execution_count": 14,
   "metadata": {},
   "outputs": [],
   "source": [
    "def get_pattern_list_mba(row):\n",
    "    formatted = \"\"\n",
    "    pattern_list = []\n",
    "    for i, element in enumerate(row[1]):\n",
    "        if i != len(row[1]) - 1:\n",
    "            formatted_element = str(element) + \";\"\n",
    "        else:\n",
    "            formatted_element = str(element) \n",
    "        formatted += formatted_element\n",
    "    products = formatted.split(';')\n",
    "    products = sorted(products)\n",
    "    #Combinations of one to 3 products, since we do not want an empty combination \n",
    "    for i in range(1, 4):\n",
    "        #Combine the products using comb from the combinations imported from itertools\n",
    "          pattern_list+=(list(comb(products, i)))    \n",
    "    return pattern_list\n",
    "\n",
    "def map_to_patterns_mba(row):\n",
    "    #Get all the different combination of products (patterns)\n",
    "    pattern_list = get_pattern_list_mba(row)\n",
    "    for pattern in pattern_list:\n",
    "        # Associate each pattern to the number 1 indicating the number of occurences\n",
    "        yield (pattern, 1)"
   ]
  },
  {
   "cell_type": "code",
   "execution_count": 15,
   "metadata": {},
   "outputs": [],
   "source": [
    "table_orders = spark.sql('SELECT op.order_id, '\n",
    "          'COLLECT_LIST(op.product_id) AS products '\n",
    "          'FROM order_prod AS op '\n",
    "          'GROUP BY order_id ' )"
   ]
  },
  {
   "cell_type": "code",
   "execution_count": 16,
   "metadata": {},
   "outputs": [
    {
     "name": "stdout",
     "output_type": "stream",
     "text": [
      "+--------+--------------------------------------------------------------------------------+\n",
      "|order_id|                                                                        products|\n",
      "+--------+--------------------------------------------------------------------------------+\n",
      "|    1342|                          [13176, 30827, 14966, 21137, 46129, 3798, 33081, 7862]|\n",
      "|    1591|[17203, 44008, 48823, 48205, 41671, 12986, 39758, 27344, 45061, 31215, 17758,...|\n",
      "|    4519|                                                                         [29270]|\n",
      "|    4935|                                                                         [45190]|\n",
      "|    6357|                 [37524, 33731, 43789, 38772, 39408, 43129, 14669, 48745, 24852]|\n",
      "+--------+--------------------------------------------------------------------------------+\n",
      "only showing top 5 rows\n",
      "\n"
     ]
    }
   ],
   "source": [
    "table_orders.show(5, truncate=80)"
   ]
  },
  {
   "cell_type": "code",
   "execution_count": 17,
   "metadata": {},
   "outputs": [
    {
     "name": "stdout",
     "output_type": "stream",
     "text": [
      "Map to patterns... \n",
      "Reduce to patterns... \n",
      "Map to subpatterns... \n",
      "Reduce subpatterns... \n",
      "Map to association rules... \n",
      "+---------------------------+--------------------------------------------------------------------------------+\n",
      "|                   patterns|                                                               association_rules|\n",
      "+---------------------------+--------------------------------------------------------------------------------+\n",
      "|                 ('27681',)|[('30235', 0.014084507042253521), ('13866', 0.014084507042253521), ('45368', ...|\n",
      "|         ('44008', '46473')|[('32520', 1.0), ('40310', 1.0), ('31215', 1.0), ('9130', 1.0), ('5384', 1.0)...|\n",
      "|          ('48246', '9130')|[('25237', 1.0), ('45061', 1.0), ('19604', 1.0), ('16900', 1.0), ('46473', 1....|\n",
      "|('12986', '16900', '46473')|                                                                              []|\n",
      "|('12986', '17758', '32520')|                                                                              []|\n",
      "+---------------------------+--------------------------------------------------------------------------------+\n",
      "only showing top 5 rows\n",
      "\n",
      "Wall time: 8min 45s\n"
     ]
    }
   ],
   "source": [
    "%%time\n",
    "\"\"\"\n",
    "TODO: run the MBA algorithm and show the first 5 association rules\n",
    "\"\"\"\n",
    "# Obtain a RDD object to call a map function\n",
    "table_orders_rdd = table_orders.rdd\n",
    "\n",
    "# Map to patterns \n",
    "orders_with_mba = table_orders_rdd.flatMap(map_to_patterns_mba)\n",
    "print(\"Map to patterns... \")\n",
    "\n",
    "#Reduce patterns \n",
    "orders_with_mba = orders_with_mba.reduceByKey(reduce_product_by_key)\n",
    "print(\"Reduce to patterns... \")\n",
    "\n",
    "# Map to subpatterns\n",
    "orders_with_mba = orders_with_mba.flatMap(map_to_subpatterns)\n",
    "print(\"Map to subpatterns... \")\n",
    "\n",
    "# Reduce subpatterns\n",
    "orders_with_mba = orders_with_mba.groupByKey().mapValues(list)\n",
    "print(\"Reduce subpatterns... \")\n",
    "\n",
    "# Map to Association Rules\n",
    "orders_with_mba = orders_with_mba.flatMap(map_to_assoc_rules)\n",
    "print(\"Map to association rules... \")\n",
    "# Output as dataframe\n",
    "assoc_df_train = orders_with_mba.map(format_tuples).toDF(['patterns', 'association_rules'])\n",
    "assoc_df_train.show(5,truncate=80)"
   ]
  },
  {
   "cell_type": "markdown",
   "metadata": {},
   "source": [
    "## 3.3 Run MBA for the whole dataset (15 points)\n",
    "\n",
    "As you probably noticed, even for a not so large data set (the training file has only 131209 orders), the MBA algorithm is computationally expensive. For that reason, this time, we will repeat the process, but now using the Google Cloud Platform (GCP) to create a large computer cluster. All the instructions for creating a computing cluster with spark and how to submit a job will be explained in both sessions of the laboratory. In any case, you should read the instructions given in the ``Instruction_GCP.pdf``.\n",
    "\n",
    "This time, we will work with the ``order_products__prior.csv`` file, which contains more than 3M orders.\n",
    "\n",
    "**EXPECTED OUTPUT**\n",
    "\n",
    "After you ran the MBA for the larger collection of orders, randomly select 5 products purchased in ``order_products__prior`` and print the association rules associated to those products when the product is alone in the basket. The output should be as described below:\n",
    "\n",
    "**This time,  the products' name should be printed, not its ID. You can still perform the MBA using the IDs, but this last print must show the names.  \n",
    "The output should be formatted in a table, each row containing the information of the association rules for one of the 10 products.**\n",
    "       \n",
    "Report the execution time."
   ]
  },
  {
   "cell_type": "code",
   "execution_count": null,
   "metadata": {},
   "outputs": [
    {
     "name": "stdout",
     "output_type": "stream",
     "text": [
      "order_products__prior.csv\n",
      "+--------+----------+-----------------+---------+\n",
      "|order_id|product_id|add_to_cart_order|reordered|\n",
      "+--------+----------+-----------------+---------+\n",
      "|       2|     33120|                1|        1|\n",
      "|       2|     28985|                2|        1|\n",
      "|       2|      9327|                3|        0|\n",
      "|       2|     45918|                4|        1|\n",
      "|       2|     30035|                5|        0|\n",
      "+--------+----------+-----------------+---------+\n",
      "only showing top 5 rows\n",
      "\n"
     ]
    }
   ],
   "source": [
    "df_order_prod_prior = spark.read.csv('gs://bucket-tp3-jad/instacart/order_products__prior.csv', header=True, sep=',', inferSchema=True)\n",
    "print('order_products__prior.csv')\n",
    "df_order_prod_prior.show(5)\n",
    "df_order_prod_prior.createOrReplaceTempView(\"order_prior\")"
   ]
  },
  {
   "cell_type": "code",
   "execution_count": 82,
   "metadata": {},
   "outputs": [
    {
     "name": "stdout",
     "output_type": "stream",
     "text": [
      "CPU times: user 0 ns, sys: 0 ns, total: 0 ns\n",
      "Wall time: 12.6 ms\n"
     ]
    }
   ],
   "source": [
    "%%time\n",
    "\"\"\"\n",
    "TODO: create a query to create and sctruct the transactions from the order_products__prior.csv file\n",
    "\"\"\"\n",
    "table_orders = spark.sql('SELECT op.order_id, '\n",
    "          'COLLECT_LIST(p.product_name) AS products '\n",
    "          'FROM order_prior AS op '\n",
    "          'INNER JOIN products p ON op.product_id = p.product_id '\n",
    "          'GROUP BY order_id')"
   ]
  },
  {
   "cell_type": "code",
   "execution_count": 83,
   "metadata": {},
   "outputs": [
    {
     "name": "stdout",
     "output_type": "stream",
     "text": [
      "+--------+----------------------------------------------------------------------------------------------------+\n",
      "|order_id|                                                                                            products|\n",
      "+--------+----------------------------------------------------------------------------------------------------+\n",
      "|     148|[Organic Red Lentils, Organic Coconut Milk, Organic Unsweetened Almond Milk, Goat Milk, Cage Free...|\n",
      "|     463|                                                                                     [Glass Cleaner]|\n",
      "|     471|[Russet Potato, Applewood Smoked Bacon, Gade A Natural Sour Cream, Sharp Cheddar Cheese, Monterey...|\n",
      "|     496|    [Organic Raw Coconut Aminos, Green Beans, Air Chilled Organic Boneless Skinless Chicken Breasts]|\n",
      "|     833|[Organic Orange Juice, Organic Whole Grassmilk Milk, Natural Cane Turbinado Sugar, Organic Hass A...|\n",
      "+--------+----------------------------------------------------------------------------------------------------+\n",
      "only showing top 5 rows\n",
      "\n"
     ]
    }
   ],
   "source": [
    "table_orders.show(5, truncate=100)"
   ]
  },
  {
   "cell_type": "code",
   "execution_count": null,
   "metadata": {},
   "outputs": [],
   "source": [
    "# Get randomly 5 products \n",
    "random_five = spark.sql('SELECT op.product_id, p.product_name AS products_names '\n",
    "          'FROM order_prior AS op '\n",
    "          'INNER JOIN products p ON op.product_id = p.product_id '\n",
    "          'GROUP BY op.product_id, products_names '\n",
    "          'ORDER BY RAND() '\n",
    "          'LIMIT 5')"
   ]
  },
  {
   "cell_type": "code",
   "execution_count": null,
   "metadata": {},
   "outputs": [],
   "source": [
    "random_five_rdd = random_five.rdd\n",
    "random_five_df = random_five_rdd.toDF(['product_id', 'products_names'])\n",
    "# Insert all five product names in a list \n",
    "five_prod_names = random_five_df.select(\"products_names\").rdd.flatMap(lambda x: x).collect()\n",
    "five_prod_ids = random_five_df.select(\"product_id\").rdd.flatMap(lambda x: x).collect()"
   ]
  },
  {
   "cell_type": "code",
   "execution_count": null,
   "metadata": {},
   "outputs": [
    {
     "name": "stdout",
     "output_type": "stream",
     "text": [
      "Map to patterns... \n",
      "Reduce to patterns... \n",
      "Map to subpatterns... \n",
      "Reduce subpatterns... \n",
      "Map to association rules: \n",
      "CPU times: user 560 ms, sys: 148 ms, total: 708 ms\n",
      "Wall time: 1h 2min 6s\n"
     ]
    }
   ],
   "source": [
    "%%time\n",
    "\"\"\"\n",
    "TODO: run the MBA algorithm and print the requested output\n",
    "\"\"\"\n",
    "# Obtain a RDD object to call a map function\n",
    "table_orders_rdd = table_orders.rdd\n",
    "\n",
    "# Map to patterns \n",
    "orders_with_mba = table_orders_rdd.flatMap(map_to_patterns_mba)\n",
    "print(\"Map to patterns... \")\n",
    "\n",
    "#Reduce patterns \n",
    "orders_with_mba = orders_with_mba.reduceByKey(reduce_product_by_key)\n",
    "print(\"Reduce to patterns... \")\n",
    "\n",
    "# Map to subpatterns\n",
    "orders_with_mba = orders_with_mba.flatMap(map_to_subpatterns)\n",
    "print(\"Map to subpatterns... \")\n",
    "\n",
    "# Reduce subpatterns\n",
    "orders_with_mba = orders_with_mba.groupByKey().mapValues(list)\n",
    "print(\"Reduce subpatterns... \")\n",
    "\n",
    "# Map to Association Rules\n",
    "orders_with_mba = orders_with_mba.flatMap(map_to_assoc_rules)\n",
    "print(\"Map to association rules: \")\n",
    "# Only keep the five random products \n",
    "filtered_rdd = orders_with_mba.filter(lambda x: len(x[0])==1 and str(x[0][0]) in five_prod_names)\n",
    "# Convert the rdd to dataframe\n",
    "filtered_df = filtered_rdd.map(format_tuples).toDF(['patterns', 'association_rules'])"
   ]
  },
  {
   "cell_type": "code",
   "execution_count": null,
   "metadata": {},
   "outputs": [],
   "source": [
    "import pandas as pd"
   ]
  },
  {
   "cell_type": "code",
   "execution_count": null,
   "metadata": {},
   "outputs": [],
   "source": [
    "pd.set_option('display.max_colwidth', 500)"
   ]
  },
  {
   "cell_type": "code",
   "execution_count": null,
   "metadata": {},
   "outputs": [],
   "source": [
    "pandas_filtered = filtered_df.toPandas()"
   ]
  },
  {
   "cell_type": "code",
   "execution_count": null,
   "metadata": {},
   "outputs": [
    {
     "data": {
      "text/html": [
       "<div>\n",
       "<style scoped>\n",
       "    .dataframe tbody tr th:only-of-type {\n",
       "        vertical-align: middle;\n",
       "    }\n",
       "\n",
       "    .dataframe tbody tr th {\n",
       "        vertical-align: top;\n",
       "    }\n",
       "\n",
       "    .dataframe thead th {\n",
       "        text-align: right;\n",
       "    }\n",
       "</style>\n",
       "<table border=\"1\" class=\"dataframe\">\n",
       "  <thead>\n",
       "    <tr style=\"text-align: right;\">\n",
       "      <th></th>\n",
       "      <th>patterns</th>\n",
       "      <th>association_rules</th>\n",
       "    </tr>\n",
       "  </thead>\n",
       "  <tbody>\n",
       "    <tr>\n",
       "      <th>0</th>\n",
       "      <td>('Pringles Loud Spicy Queso Corn Crisps',)</td>\n",
       "      <td>[('Organic Southwest Salad', 0.3333333333333333), ('Bun Size Franks made with Pork &amp; Chicken', 0.3333333333333333), ('Diet', 0.3333333333333333), ('Loaded Bacon &amp; Cheddar Potato Skins', 0.3333333333333333), ('Classic Potato Chips', 0.3333333333333333), ('Variety Pack  Fruit Fusion Fruit Snacks', 0.3333333333333333), ('Wasabi Ginger Kettle Chips', 0.3333333333333333), ('Grilled Seafood Feast Variety Cat Food', 0.3333333333333333), (\"Pull 'n' Peel Candy, Cherry\", 0.3333333333333333), ('Cinnamo...</td>\n",
       "    </tr>\n",
       "    <tr>\n",
       "      <th>1</th>\n",
       "      <td>('Cheese, Halloumi',)</td>\n",
       "      <td>[('Almond Biscotti', 0.25), ('Dried Manzanilla', 0.125), ('Crinkle Cut Sweet Potato Fries with sea salt and black pepper', 0.125), ('Shredded Mozzarella', 0.125), ('Sugar Snap Peas', 0.125), ('Clementines', 0.125), ('Pupusas, Black Bean &amp; Sweet Corn', 0.125), ('Almond Nut &amp; Rice Cracker Snacks', 0.125), ('English Seedless Cucumber', 0.125), ('Raw Mild Cheddar Cheese', 0.125), ('Tamari Gluten Free Soy Sauce Reduced Sodium', 0.125), ('Chicken Pad Thai With Rice Noodles', 0.125), ('Stage 3 Hear...</td>\n",
       "    </tr>\n",
       "    <tr>\n",
       "      <th>2</th>\n",
       "      <td>('California Peach Greek Yogurt',)</td>\n",
       "      <td>[('Garlic Spice Blend Paste', 0.047619047619047616), ('Rich &amp; Creamy Fat-Free Half &amp; Half Ultra-Pasteurized', 0.09523809523809523), ('Cherubs Heavenly Salad Tomatoes', 0.09523809523809523), ('Light Harvest Peach Strawberry Variety Pack', 0.09523809523809523), ('Rotini Pasta', 0.047619047619047616), ('Jalapeno Peppers', 0.047619047619047616), ('Belgium Beer', 0.047619047619047616), ('Cut Green Beans', 0.047619047619047616), ('California Diced Peaches Packed in Water No Sugar Added', 0.0476190...</td>\n",
       "    </tr>\n",
       "    <tr>\n",
       "      <th>3</th>\n",
       "      <td>('Organic Fingerling Potatoes Bag',)</td>\n",
       "      <td>[('Blood Oranges', 0.06666666666666667), ('Organic Garbanzo Beans', 0.06666666666666667), ('Cucumber Kirby', 0.13333333333333333), ('Natural Free &amp; Clear Dish Liquid', 0.06666666666666667), ('Polenta, Organic, Traditional Italian', 0.06666666666666667), ('Diced Tomatoes', 0.06666666666666667), ('Raspberry Preserves', 0.06666666666666667), ('Large Lemon', 0.06666666666666667), ('Organic Zucchini', 0.26666666666666666), ('Organic Boneless Skinless Chicken Thighs', 0.06666666666666667), ('Organ...</td>\n",
       "    </tr>\n",
       "    <tr>\n",
       "      <th>4</th>\n",
       "      <td>('Peppered Deli Slices',)</td>\n",
       "      <td>[('Medium Scarlet Raspberries', 0.0007390983000739098), ('Variety Pack Snack Stacks', 0.0014781966001478197), ('Apples &amp; Blueberries Stage 2 Baby Food', 0.0007390983000739098), ('Organic Nighty Night Valerian Herbal Tea', 0.0007390983000739098), ('Special Reserve Extra Sharp Cheddar Cheese', 0.0007390983000739098), ('Kale Krunch The Original Quite Cheezy', 0.014042867701404288), ('Unsweetened Almond Coconut Milk Blend', 0.003695491500369549), ('Strawberry Whole Milk Drinkable Yogurt', 0.0007...</td>\n",
       "    </tr>\n",
       "  </tbody>\n",
       "</table>\n",
       "</div>"
      ],
      "text/plain": [
       "                                     patterns                                                                                                                                                                                                                                                                                                                                                                                                                                                                                                    association_rules\n",
       "0  ('Pringles Loud Spicy Queso Corn Crisps',)  [('Organic Southwest Salad', 0.3333333333333333), ('Bun Size Franks made with Pork & Chicken', 0.3333333333333333), ('Diet', 0.3333333333333333), ('Loaded Bacon & Cheddar Potato Skins', 0.3333333333333333), ('Classic Potato Chips', 0.3333333333333333), ('Variety Pack  Fruit Fusion Fruit Snacks', 0.3333333333333333), ('Wasabi Ginger Kettle Chips', 0.3333333333333333), ('Grilled Seafood Feast Variety Cat Food', 0.3333333333333333), (\"Pull 'n' Peel Candy, Cherry\", 0.3333333333333333), ('Cinnamo...\n",
       "1                       ('Cheese, Halloumi',)  [('Almond Biscotti', 0.25), ('Dried Manzanilla', 0.125), ('Crinkle Cut Sweet Potato Fries with sea salt and black pepper', 0.125), ('Shredded Mozzarella', 0.125), ('Sugar Snap Peas', 0.125), ('Clementines', 0.125), ('Pupusas, Black Bean & Sweet Corn', 0.125), ('Almond Nut & Rice Cracker Snacks', 0.125), ('English Seedless Cucumber', 0.125), ('Raw Mild Cheddar Cheese', 0.125), ('Tamari Gluten Free Soy Sauce Reduced Sodium', 0.125), ('Chicken Pad Thai With Rice Noodles', 0.125), ('Stage 3 Hear...\n",
       "2          ('California Peach Greek Yogurt',)  [('Garlic Spice Blend Paste', 0.047619047619047616), ('Rich & Creamy Fat-Free Half & Half Ultra-Pasteurized', 0.09523809523809523), ('Cherubs Heavenly Salad Tomatoes', 0.09523809523809523), ('Light Harvest Peach Strawberry Variety Pack', 0.09523809523809523), ('Rotini Pasta', 0.047619047619047616), ('Jalapeno Peppers', 0.047619047619047616), ('Belgium Beer', 0.047619047619047616), ('Cut Green Beans', 0.047619047619047616), ('California Diced Peaches Packed in Water No Sugar Added', 0.0476190...\n",
       "3        ('Organic Fingerling Potatoes Bag',)  [('Blood Oranges', 0.06666666666666667), ('Organic Garbanzo Beans', 0.06666666666666667), ('Cucumber Kirby', 0.13333333333333333), ('Natural Free & Clear Dish Liquid', 0.06666666666666667), ('Polenta, Organic, Traditional Italian', 0.06666666666666667), ('Diced Tomatoes', 0.06666666666666667), ('Raspberry Preserves', 0.06666666666666667), ('Large Lemon', 0.06666666666666667), ('Organic Zucchini', 0.26666666666666666), ('Organic Boneless Skinless Chicken Thighs', 0.06666666666666667), ('Organ...\n",
       "4                   ('Peppered Deli Slices',)  [('Medium Scarlet Raspberries', 0.0007390983000739098), ('Variety Pack Snack Stacks', 0.0014781966001478197), ('Apples & Blueberries Stage 2 Baby Food', 0.0007390983000739098), ('Organic Nighty Night Valerian Herbal Tea', 0.0007390983000739098), ('Special Reserve Extra Sharp Cheddar Cheese', 0.0007390983000739098), ('Kale Krunch The Original Quite Cheezy', 0.014042867701404288), ('Unsweetened Almond Coconut Milk Blend', 0.003695491500369549), ('Strawberry Whole Milk Drinkable Yogurt', 0.0007..."
      ]
     },
     "execution_count": 81,
     "metadata": {},
     "output_type": "execute_result"
    }
   ],
   "source": [
    "pandas_filtered"
   ]
  }
 ],
 "metadata": {
  "kernelspec": {
   "display_name": "Python 3",
   "language": "python",
   "name": "python3"
  },
  "language_info": {
   "codemirror_mode": {
    "name": "ipython",
    "version": 3
   },
   "file_extension": ".py",
   "mimetype": "text/x-python",
   "name": "python",
   "nbconvert_exporter": "python",
   "pygments_lexer": "ipython3",
   "version": "3.7.4"
  }
 },
 "nbformat": 4,
 "nbformat_minor": 2
}
